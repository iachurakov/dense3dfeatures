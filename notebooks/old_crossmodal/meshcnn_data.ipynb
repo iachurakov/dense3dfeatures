{
 "cells": [
  {
   "cell_type": "code",
   "execution_count": 1,
   "id": "6afd2de5",
   "metadata": {},
   "outputs": [],
   "source": [
    "from os import sys\n",
    "# Path to workspace\n",
    "sys.path.insert(0, '/workspace/3d-shapes-embeddings/contrib/sharp_features/')\n",
    "sys.path.insert(0, '/workspace/3d-shapes-embeddings/workspace/')\n",
    "sys.path.insert(0, '/workspace/dense-self-supervised-representation-learning-for-3D-shapes/')\n",
    "sys.path.insert(0, '/workspace/')"
   ]
  },
  {
   "cell_type": "code",
   "execution_count": 2,
   "id": "ae7e5dba",
   "metadata": {},
   "outputs": [],
   "source": [
    "from models.meshcnn.utils.mesh_prepare import *\n",
    "import h5py\n",
    "import numpy as np"
   ]
  },
  {
   "cell_type": "code",
   "execution_count": 3,
   "id": "01e6d537",
   "metadata": {},
   "outputs": [],
   "source": [
    "class AttrDict(dict):\n",
    "    def __init__(self, *args, **kwargs):\n",
    "        super(AttrDict, self).__init__(*args, **kwargs)\n",
    "        self.__dict__ = self"
   ]
  },
  {
   "cell_type": "code",
   "execution_count": 4,
   "id": "92b95d8d",
   "metadata": {},
   "outputs": [],
   "source": [
    "import torch\n",
    "from torch.utils.data import Dataset, DataLoader\n",
    "from models.meshcnn.utils.mesh import Mesh\n",
    "\n",
    "\n",
    "    \n",
    "    \n",
    "def pad(input_arr, target_length, val=0, dim=1):\n",
    "    shp = input_arr.shape\n",
    "    npad = [(0, 0) for _ in range(len(shp))]\n",
    "    npad[dim] = (0, target_length - shp[dim])\n",
    "    return np.pad(input_arr, pad_width=npad, mode='constant', constant_values=val)\n",
    "\n",
    "\n",
    "def collate_fn(batch, device='cpu'):\n",
    "    \"\"\"Creates mini-batch tensors\n",
    "    We should build custom collate_fn rather than using default collate_fn\n",
    "    \"\"\"\n",
    "    meta = {}\n",
    "    keys = batch[0].keys()\n",
    "    for key in keys:\n",
    "        meta.update({key: np.array([d[key] for d in batch])})\n",
    "        \n",
    "    meta['edge_features'].to(device)\n",
    "    return meta\n",
    "\n",
    "\n",
    "class MeshDataset(Dataset):\n",
    "    \"\"\"\n",
    "    Dataset for MeshCNN\n",
    "    \"\"\"\n",
    "    def __init__(self, h5_file: str,\n",
    "                 ninput_edges: int,\n",
    "                 opt):\n",
    "        \"\"\"\n",
    "        param h5_file: path to h5 file with preprocessed meshes\n",
    "        param part: part of dataset, can be train/val/test\n",
    "        \"\"\"\n",
    "        super().__init__()\n",
    "        self.ninput_edges = ninput_edges\n",
    "        self.file = h5py.File(h5_file, 'r')\n",
    "        self.opt = opt\n",
    "        self.get_mean_std()\n",
    "        \n",
    "    \n",
    "    def get_mean_std(self):\n",
    "        self.mean = 0\n",
    "        self.std = 0\n",
    "        for i in range(self.__len__()):\n",
    "            m = from_scratch(\n",
    "                (self.file['vertices'][i].reshape(-1, 3), self.file['faces'][i].reshape(-1, 3)),\n",
    "                self.opt, False\n",
    "            )\n",
    "            features = m['features']\n",
    "            \n",
    "            self.mean = self.mean + features.mean(axis=1)\n",
    "            self.std = self.std + features.std(axis=1)\n",
    "        \n",
    "        self.mean = self.mean / self.__len__()\n",
    "        self.std = self.std / self.__len__()\n",
    "        \n",
    "        \n",
    "    def __getitem__(self, index: int):\n",
    "        mesh = Mesh(from_scratch(\n",
    "            (self.file['vertices'][index].reshape(-1, 3), self.file['faces'][index].reshape(-1, 3)),\n",
    "            self.opt, self.opt.is_train\n",
    "        ), hold_history=True)\n",
    "        meta = {'mesh': mesh}\n",
    "        # get edge features\n",
    "        edge_features = mesh.extract_features()\n",
    "        edge_features = pad(edge_features, self.ninput_edges)\n",
    "        meta['edge_features'] = (edge_features - self.mean[..., None]) / self.std[..., None]\n",
    "        \n",
    "        return meta\n",
    "    \n",
    "    \n",
    "    def __len__(self):\n",
    "        return self.file['faces'].shape[0]\n"
   ]
  },
  {
   "cell_type": "code",
   "execution_count": 5,
   "id": "01fa2700",
   "metadata": {},
   "outputs": [
    {
     "ename": "NameError",
     "evalue": "name 'data' is not defined",
     "output_type": "error",
     "traceback": [
      "\u001b[0;31m---------------------------------------------------------------------------\u001b[0m",
      "\u001b[0;31mNameError\u001b[0m                                 Traceback (most recent call last)",
      "\u001b[0;32m<ipython-input-5-b9974eefaf5c>\u001b[0m in \u001b[0;36m<module>\u001b[0;34m\u001b[0m\n\u001b[1;32m      1\u001b[0m \u001b[0;32mfrom\u001b[0m \u001b[0mtqdm\u001b[0m \u001b[0;32mimport\u001b[0m \u001b[0mtqdm\u001b[0m\u001b[0;34m\u001b[0m\u001b[0;34m\u001b[0m\u001b[0m\n\u001b[1;32m      2\u001b[0m \u001b[0mstats\u001b[0m \u001b[0;34m=\u001b[0m \u001b[0;34m[\u001b[0m\u001b[0;34m]\u001b[0m\u001b[0;34m\u001b[0m\u001b[0;34m\u001b[0m\u001b[0m\n\u001b[0;32m----> 3\u001b[0;31m \u001b[0;32mfor\u001b[0m \u001b[0mi\u001b[0m \u001b[0;32min\u001b[0m \u001b[0mtqdm\u001b[0m\u001b[0;34m(\u001b[0m\u001b[0mrange\u001b[0m\u001b[0;34m(\u001b[0m\u001b[0mlen\u001b[0m\u001b[0;34m(\u001b[0m\u001b[0mdata\u001b[0m\u001b[0;34m)\u001b[0m\u001b[0;34m)\u001b[0m\u001b[0;34m)\u001b[0m\u001b[0;34m:\u001b[0m\u001b[0;34m\u001b[0m\u001b[0;34m\u001b[0m\u001b[0m\n\u001b[0m\u001b[1;32m      4\u001b[0m     \u001b[0mstats\u001b[0m\u001b[0;34m.\u001b[0m\u001b[0mappend\u001b[0m\u001b[0;34m(\u001b[0m\u001b[0mdata\u001b[0m\u001b[0;34m[\u001b[0m\u001b[0mi\u001b[0m\u001b[0;34m]\u001b[0m\u001b[0;34m[\u001b[0m\u001b[0;34m'mesh'\u001b[0m\u001b[0;34m]\u001b[0m\u001b[0;34m.\u001b[0m\u001b[0mfeatures\u001b[0m\u001b[0;34m.\u001b[0m\u001b[0mshape\u001b[0m\u001b[0;34m[\u001b[0m\u001b[0;36m1\u001b[0m\u001b[0;34m]\u001b[0m\u001b[0;34m)\u001b[0m\u001b[0;34m\u001b[0m\u001b[0;34m\u001b[0m\u001b[0m\n\u001b[1;32m      5\u001b[0m \u001b[0;34m\u001b[0m\u001b[0m\n",
      "\u001b[0;31mNameError\u001b[0m: name 'data' is not defined"
     ]
    }
   ],
   "source": [
    "from tqdm import tqdm\n",
    "stats = []\n",
    "for i in tqdm(range(len(data))):\n",
    "    stats.append(data[i]['mesh'].features.shape[1])\n",
    "    \n",
    "stats = np.array(stats)"
   ]
  },
  {
   "cell_type": "code",
   "execution_count": null,
   "id": "2dbf79c2",
   "metadata": {},
   "outputs": [],
   "source": [
    "stats.max()"
   ]
  },
  {
   "cell_type": "code",
   "execution_count": null,
   "id": "7d19ae3a",
   "metadata": {},
   "outputs": [],
   "source": [
    "stats.max()"
   ]
  },
  {
   "cell_type": "code",
   "execution_count": 6,
   "id": "8da07cb3",
   "metadata": {},
   "outputs": [],
   "source": [
    "data = MeshDataset(\n",
    "    'abc_train.hdf5',\n",
    "    1000,\n",
    "    opt = AttrDict({\n",
    "        'normalize': True,\n",
    "        'num_aug': 1,\n",
    "        'scale_verts': True,\n",
    "        'slide_verts': 0.2,\n",
    "        'flip_edges': 0.2,\n",
    "        'is_train': True\n",
    "    })\n",
    ")"
   ]
  },
  {
   "cell_type": "code",
   "execution_count": 18,
   "id": "f9eeaccf",
   "metadata": {},
   "outputs": [
    {
     "data": {
      "text/plain": [
       "array([[ 5,  9],\n",
       "       [ 8,  9],\n",
       "       [ 5,  8],\n",
       "       [ 0,  9],\n",
       "       [ 0,  8],\n",
       "       [ 0, 10],\n",
       "       [ 8, 10],\n",
       "       [ 2, 10],\n",
       "       [ 2,  8],\n",
       "       [ 1,  9],\n",
       "       [ 0,  1],\n",
       "       [ 4,  8],\n",
       "       [ 3,  8],\n",
       "       [ 3,  4],\n",
       "       [ 4,  5],\n",
       "       [ 2,  3],\n",
       "       [ 3, 12],\n",
       "       [11, 12],\n",
       "       [ 3, 11],\n",
       "       [ 7, 12],\n",
       "       [ 7, 11],\n",
       "       [ 3, 13],\n",
       "       [12, 13],\n",
       "       [ 7, 13],\n",
       "       [ 4, 11],\n",
       "       [ 6, 13],\n",
       "       [ 6,  7],\n",
       "       [ 5, 11],\n",
       "       [ 2, 13]], dtype=int32)"
      ]
     },
     "execution_count": 18,
     "metadata": {},
     "output_type": "execute_result"
    }
   ],
   "source": [
    "data[0]['mesh'].edges"
   ]
  },
  {
   "cell_type": "code",
   "execution_count": 7,
   "id": "f17ffc12",
   "metadata": {},
   "outputs": [],
   "source": [
    "from meshcnn.networks import *\n",
    "from meshcnn.layers.mesh_pool import *"
   ]
  },
  {
   "cell_type": "code",
   "execution_count": 8,
   "id": "9b35f3c7",
   "metadata": {},
   "outputs": [
    {
     "data": {
      "text/plain": [
       "dict_keys(['mesh', 'edge_features'])"
      ]
     },
     "execution_count": 8,
     "metadata": {},
     "output_type": "execute_result"
    }
   ],
   "source": [
    "batch = collate_fn([\n",
    "    data[0], data[1], data[2]\n",
    "])\n",
    "batch.keys()"
   ]
  },
  {
   "cell_type": "code",
   "execution_count": 9,
   "id": "f5f6c5d7",
   "metadata": {},
   "outputs": [],
   "source": [
    "sample = MeshEncoderDecoder(\n",
    "    pools=[0, 600, 512, 256, 128, 64],\n",
    "    down_convs=[5, 64, 128, 256, 512, 1024],\n",
    "    up_convs=[1024, 1024, 512, 256, 128, 64],\n",
    "    blocks=0\n",
    ")"
   ]
  },
  {
   "cell_type": "code",
   "execution_count": null,
   "id": "4ef9176d",
   "metadata": {},
   "outputs": [],
   "source": [
    "res = sample.encoder((torch.from_numpy(batch['edge_features']).float(), batch['mesh']))\n",
    "[_.shape if _ is not None else None for _ in res[1]]"
   ]
  },
  {
   "cell_type": "code",
   "execution_count": 10,
   "id": "ff20e9f0",
   "metadata": {},
   "outputs": [
    {
     "data": {
      "text/plain": [
       "torch.Size([3, 64, 600])"
      ]
     },
     "execution_count": 10,
     "metadata": {},
     "output_type": "execute_result"
    }
   ],
   "source": [
    "sample(torch.from_numpy(batch['edge_features']).float(), batch['mesh']).shape"
   ]
  },
  {
   "cell_type": "code",
   "execution_count": null,
   "id": "6c632b50",
   "metadata": {},
   "outputs": [],
   "source": [
    "encoder = MeshEncoder(\n",
    "    pools=[0, 500, 250, 100],\n",
    "    convs=[5, 64, 128, 256]\n",
    ")\n",
    "decoder = MeshDecoder(\n",
    "    unrolls=[500, 1000],\n",
    "    convs=[256, 128, 64],\n",
    "    transfer_data=False,\n",
    ")"
   ]
  },
  {
   "cell_type": "code",
   "execution_count": null,
   "id": "5c6a997e",
   "metadata": {},
   "outputs": [],
   "source": [
    "encoded = encoder((torch.from_numpy(batch['edge_features']).float(), batch['mesh']))[0] "
   ]
  },
  {
   "cell_type": "code",
   "execution_count": null,
   "id": "55edc731",
   "metadata": {},
   "outputs": [],
   "source": [
    "res = decoder((encoded, batch['mesh']))"
   ]
  },
  {
   "cell_type": "code",
   "execution_count": null,
   "id": "ff5803be",
   "metadata": {},
   "outputs": [],
   "source": [
    "res.shape"
   ]
  },
  {
   "cell_type": "code",
   "execution_count": null,
   "id": "d83036a7",
   "metadata": {},
   "outputs": [],
   "source": [
    "batch['mesh'][0]."
   ]
  },
  {
   "cell_type": "code",
   "execution_count": null,
   "id": "067adfc2",
   "metadata": {},
   "outputs": [],
   "source": [
    "torch.from_numpy(batch['edge_features'])[0]"
   ]
  },
  {
   "cell_type": "code",
   "execution_count": null,
   "id": "1c3c9c41",
   "metadata": {},
   "outputs": [],
   "source": [
    "pad(torch.from_numpy(data[0]['edge_features']), 1000)"
   ]
  },
  {
   "cell_type": "code",
   "execution_count": null,
   "id": "b83b0144",
   "metadata": {},
   "outputs": [],
   "source": [
    "data[0]['edge_features']"
   ]
  },
  {
   "cell_type": "code",
   "execution_count": null,
   "id": "3dce9d3d",
   "metadata": {},
   "outputs": [],
   "source": []
  }
 ],
 "metadata": {
  "kernelspec": {
   "display_name": "Python 3",
   "language": "python",
   "name": "python3"
  },
  "language_info": {
   "codemirror_mode": {
    "name": "ipython",
    "version": 3
   },
   "file_extension": ".py",
   "mimetype": "text/x-python",
   "name": "python",
   "nbconvert_exporter": "python",
   "pygments_lexer": "ipython3",
   "version": "3.8.12"
  }
 },
 "nbformat": 4,
 "nbformat_minor": 5
}
