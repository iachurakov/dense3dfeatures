{
 "cells": [
  {
   "cell_type": "code",
   "execution_count": 1,
   "id": "24e36688",
   "metadata": {},
   "outputs": [],
   "source": [
    "import trimesh\n",
    "import numpy as np\n",
    "import sys\n",
    "import h5py\n",
    "import point_cloud_utils as pcu\n",
    "from igl import decimate\n",
    "from glob import glob\n",
    "from tqdm.notebook import tqdm\n",
    "from pathlib import Path\n",
    "\n",
    "# Path to workspace\n",
    "sys.path.insert(0, '/workspace/dense-self-supervised-representation-learning-for-3D-shapes/')\n",
    "from workspace.datasets.transforms import PointCloudNormalize\n",
    "\n",
    "import k3d"
   ]
  },
  {
   "cell_type": "code",
   "execution_count": 2,
   "id": "26a521c5",
   "metadata": {},
   "outputs": [],
   "source": [
    "aliens = '/workspace/coseg/aliens/'\n",
    "chairs = '/workspace/coseg/chairs/'\n",
    "vases = '/workspace/coseg/vases/'"
   ]
  },
  {
   "cell_type": "code",
   "execution_count": 3,
   "id": "9809db48",
   "metadata": {},
   "outputs": [],
   "source": [
    "cat2label = {\n",
    "    'aliens': 0,\n",
    "    'vases': 1,\n",
    "    'chairs': 2\n",
    "}\n",
    "\n",
    "\n",
    "def prepare_mesh(mesh_path, faces_labels, n_points=1024):\n",
    "    old_v, old_f = pcu.load_mesh_vf(mesh_path)\n",
    "    old_v = PointCloudNormalize()(old_v)\n",
    "    \n",
    "    res, v, f, f_to_f, _ = decimate(old_v, old_f, 500)\n",
    "    faces_labels = faces_labels[f_to_f]\n",
    "\n",
    "    fi, bc = pcu.sample_mesh_poisson_disk(v, f, int(n_points * 1.2))\n",
    "\n",
    "    v_poisson = pcu.interpolate_barycentric_coords(f, fi, bc, v)\n",
    "\n",
    "    if v_poisson.shape[0] > n_points:\n",
    "        perm = np.random.choice(v_poisson.shape[0], n_points, replace=False)\n",
    "        points = v_poisson[perm]\n",
    "        face_index = fi[perm]\n",
    "    else:\n",
    "        print(f'Error: {mesh_path}')\n",
    "        raise ValueError()\n",
    "\n",
    "    return v, f, faces_labels, face_index, points"
   ]
  },
  {
   "cell_type": "code",
   "execution_count": 28,
   "id": "5a2e9daa",
   "metadata": {},
   "outputs": [],
   "source": [
    "def write_to_h5(root_dir, output_path, n_points=1024):\n",
    "    root_path = Path(root_dir)\n",
    "    files_path = root_path / 'shapes' / '*'\n",
    "    files_paths = glob(str(files_path))\n",
    "    \n",
    "    data_len = len(files_paths)\n",
    "\n",
    "    with h5py.File(output_path, 'w') as out:\n",
    "        out.create_dataset('faces', dtype=h5py.vlen_dtype('i4'), shape=(data_len,))\n",
    "        out.create_dataset('faces_labels', dtype=h5py.vlen_dtype('i4'), shape=(data_len,))\n",
    "        out.create_dataset('vertices', dtype=h5py.vlen_dtype('f4'), shape=(data_len,))\n",
    "        out.create_dataset('face_index', dtype='i4', shape=(data_len, n_points))\n",
    "        out.create_dataset('points', dtype='f4', shape=(data_len, n_points, 3))\n",
    "        out.create_dataset('points_labels', dtype='i4', shape=(data_len, n_points))\n",
    "        out.create_dataset('instance_labels', dtype='i4', shape=(data_len,))\n",
    "    \n",
    "        for i, file_path in tqdm(enumerate(files_paths), total=len(files_paths)):\n",
    "            parts = file_path.split('/')\n",
    "            category = parts[-3]\n",
    "            idx = parts[-1].replace('.off', '')\n",
    "            label_path = root_path / 'gt' / f'{idx}.seg'\n",
    "            faces_labels = np.loadtxt(label_path, dtype=np.int32)\n",
    "            faces_labels -= 1\n",
    "\n",
    "            v, f, faces_labels, fi, pts = prepare_mesh(file_path, faces_labels)\n",
    "            out['vertices'][i] = v.flatten()\n",
    "            out['faces'][i] = f.flatten()\n",
    "            out['faces_labels'][i] = faces_labels\n",
    "            out['face_index'][i] = fi\n",
    "            out['points'][i] = pts\n",
    "            out['points_labels'][i] = faces_labels[fi]\n",
    "            out['instance_labels'][i] = cat2label[category]\n",
    "    "
   ]
  },
  {
   "cell_type": "code",
   "execution_count": 35,
   "id": "24040f87",
   "metadata": {
    "scrolled": true
   },
   "outputs": [
    {
     "data": {
      "application/vnd.jupyter.widget-view+json": {
       "model_id": "8fb89bbc1c64406aa7222e388d7b2de2",
       "version_major": 2,
       "version_minor": 0
      },
      "text/plain": [
       "  0%|          | 0/196 [00:00<?, ?it/s]"
      ]
     },
     "metadata": {},
     "output_type": "display_data"
    }
   ],
   "source": [
    "write_to_h5(aliens, 'aliens.h5')"
   ]
  },
  {
   "cell_type": "code",
   "execution_count": 36,
   "id": "b7378958",
   "metadata": {},
   "outputs": [
    {
     "data": {
      "application/vnd.jupyter.widget-view+json": {
       "model_id": "b7670c9bb0734823af91dc09246067b1",
       "version_major": 2,
       "version_minor": 0
      },
      "text/plain": [
       "  0%|          | 0/393 [00:00<?, ?it/s]"
      ]
     },
     "metadata": {},
     "output_type": "display_data"
    }
   ],
   "source": [
    "write_to_h5(chairs, 'chairs.h5')"
   ]
  },
  {
   "cell_type": "code",
   "execution_count": 37,
   "id": "15178d99",
   "metadata": {},
   "outputs": [
    {
     "data": {
      "application/vnd.jupyter.widget-view+json": {
       "model_id": "897085b4d539426fb7da43f3bd4acb5d",
       "version_major": 2,
       "version_minor": 0
      },
      "text/plain": [
       "  0%|          | 0/300 [00:00<?, ?it/s]"
      ]
     },
     "metadata": {},
     "output_type": "display_data"
    }
   ],
   "source": [
    "write_to_h5(vases, 'vases.h5')"
   ]
  },
  {
   "cell_type": "code",
   "execution_count": null,
   "id": "2e9371df",
   "metadata": {},
   "outputs": [],
   "source": [
    "path = '/workspace/coseg/aliens/shapes/1.off'\n",
    "mesh = trimesh.load_mesh('/workspace/coseg/aliens/shapes/1.off')\n",
    "gt = np.loadtxt('/workspace/coseg/aliens/gt/1.seg', dtype=np.int32)"
   ]
  },
  {
   "cell_type": "code",
   "execution_count": null,
   "id": "4ff26948",
   "metadata": {},
   "outputs": [],
   "source": [
    "files_paths = glob(f'/workspace/coseg/*/shapes/*')\n",
    "root_dir = '/workspace/coseg'\n",
    "    \n",
    "for i, file_path in tqdm(enumerate(files_paths), total=900):\n",
    "    parts = file_path.split('/')\n",
    "    category = parts[-3]\n",
    "    idx = parts[-1].replace('.off', '')\n",
    "    label_path = f'{root_dir}/{category}/gt/{idx}.seg'\n",
    "    faces_labels = np.loadtxt(label_path, dtype=np.int32)\n",
    "    \n",
    "    mesh = trimesh.load_mesh(file_path)\n",
    "    \n",
    "    res, _, _, _, _ = decimate(mesh.vertices, mesh.faces, 500)\n",
    "\n",
    "    if res != True:\n",
    "        print(file_path)"
   ]
  },
  {
   "cell_type": "code",
   "execution_count": null,
   "id": "d70f072b",
   "metadata": {},
   "outputs": [],
   "source": [
    "!rm /workspace/coseg/chairs/shapes/205.off\n",
    "!rm /workspace/coseg/chairs/shapes/228.off\n",
    "!rm /workspace/coseg/chairs/shapes/245.off\n",
    "!rm /workspace/coseg/chairs/shapes/225.off\n",
    "!rm /workspace/coseg/chairs/shapes/208.off\n",
    "!rm /workspace/coseg/chairs/shapes/252.off\n",
    "!rm /workspace/coseg/chairs/shapes/248.off\n",
    "!rm /workspace/coseg/aliens/shapes/100.off\n",
    "!rm /workspace/coseg/aliens/shapes/80.off\n",
    "!rm /workspace/coseg/aliens/shapes/117.off\n",
    "!rm /workspace/coseg/aliens/shapes/57.off"
   ]
  },
  {
   "cell_type": "code",
   "execution_count": null,
   "id": "3b346ccf",
   "metadata": {},
   "outputs": [],
   "source": [
    "_, v, f, fi, vi = decimate(np.array(mesh.vertices), np.array(mesh.faces), 500)"
   ]
  },
  {
   "cell_type": "code",
   "execution_count": null,
   "id": "683ddde8",
   "metadata": {},
   "outputs": [],
   "source": [
    "new_gt = gt[fi]"
   ]
  },
  {
   "cell_type": "code",
   "execution_count": null,
   "id": "e985d956",
   "metadata": {
    "scrolled": true
   },
   "outputs": [],
   "source": [
    "k3d.mesh(v, f, triangles_attribute=new_gt)"
   ]
  },
  {
   "cell_type": "code",
   "execution_count": null,
   "id": "a5f95ffc",
   "metadata": {
    "scrolled": true
   },
   "outputs": [],
   "source": [
    "k3d.mesh(mesh.vertices, mesh.faces, triangles_attribute=gt)"
   ]
  },
  {
   "cell_type": "code",
   "execution_count": null,
   "id": "68a073cb",
   "metadata": {},
   "outputs": [],
   "source": [
    "write_to_h5('../../datasets/coseg', '../../datasets/hdfs/coseg.h5')"
   ]
  },
  {
   "cell_type": "code",
   "execution_count": null,
   "id": "51c8905b",
   "metadata": {},
   "outputs": [],
   "source": []
  }
 ],
 "metadata": {
  "kernelspec": {
   "display_name": "Python 3",
   "language": "python",
   "name": "python3"
  },
  "language_info": {
   "codemirror_mode": {
    "name": "ipython",
    "version": 3
   },
   "file_extension": ".py",
   "mimetype": "text/x-python",
   "name": "python",
   "nbconvert_exporter": "python",
   "pygments_lexer": "ipython3",
   "version": "3.8.12"
  }
 },
 "nbformat": 4,
 "nbformat_minor": 5
}
