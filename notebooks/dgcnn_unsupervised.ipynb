{
 "cells": [
  {
   "cell_type": "code",
   "execution_count": null,
   "id": "bbc507ce",
   "metadata": {
    "scrolled": false
   },
   "outputs": [],
   "source": [
    "from os import sys\n",
    "# Path to workspace\n",
    "sys.path.insert(0, '/workspace/dense-self-supervised-representation-learning-for-3D-shapes/')\n",
    "\n",
    "import h5py\n",
    "import torch\n",
    "import numpy as np\n",
    "from tqdm import tqdm\n",
    "import k3d"
   ]
  },
  {
   "cell_type": "code",
   "execution_count": null,
   "id": "58b8f787",
   "metadata": {
    "scrolled": false
   },
   "outputs": [],
   "source": [
    "import neptune.new as neptune\n",
    "from workspace.utils.train_loop import *\n",
    "\n",
    "params = {\n",
    "    'name': 'dgcnn_modelnet_unsupervised',\n",
    "    'dataset': 'modelnet',\n",
    "    'batch_size': 8,\n",
    "    'tau': 0.07,\n",
    "    'n_output': 512,\n",
    "    'result_dim': 128,\n",
    "    'hidden_dim': 256,\n",
    "    'total_epochs': 100,\n",
    "    'lr': 0.001,\n",
    "    'weight_decay': 1e-5,\n",
    "    'save_every': 20,\n",
    "    'weights_root': 'weights/'\n",
    "}\n",
    "\n",
    "# tags\n",
    "tags = ['modelnet', 'unsupervised', 'dgcnn', 'local']\n",
    "\n",
    "logger = neptune.init(\n",
    "    project=\"igor3661/crossmodal\",\n",
    "    name=params['name'],\n",
    "    tags=tags,\n",
    "    api_token='eyJhcGlfYWRkcmVzcyI6Imh0dHBzOi8vYXBwLm5lcHR1bmUuYWkiLCJhcG'\\\n",
    "              'lfdXJsIjoiaHR0cHM6Ly9hcHAubmVwdHVuZS5haSIsImFwaV9rZXkiOiJiN'\\\n",
    "              'zcxMGNkOS04ZjU3LTRmNDMtOWFjMS1kNDNkZDZlNDI4YWYifQ==',\n",
    ")  # your credentials\n",
    "\n",
    "\n",
    "logger['parameters'] = params\n",
    "\n",
    "device = 'cuda:0'"
   ]
  },
  {
   "cell_type": "code",
   "execution_count": null,
   "id": "dacd1246",
   "metadata": {
    "scrolled": false
   },
   "outputs": [],
   "source": [
    "from torch.utils.data import Dataset, DataLoader\n",
    "from workspace.crossmodal.utils.meshnet_preprop import *\n",
    "\n",
    "class PointDataset(Dataset):\n",
    "    def __init__(self, data_path, transform=None):\n",
    "        super().__init__()\n",
    "        self.transform = transform\n",
    "        self.file = h5py.File(data_path, 'r')\n",
    "\n",
    "    def __getitem__(self, index):\n",
    "        points = self.file['points'][index][:]\n",
    "\n",
    "        if self.transform is not None:\n",
    "            points = self.transform(points)\n",
    "\n",
    "        points = torch.from_numpy(points).float()\n",
    "        points = torch.permute(points, (1, 0))\n",
    "        return points\n",
    "        \n",
    "    def __len__(self):\n",
    "        return self.file['points'].shape[0]\n",
    "    \n",
    "\n",
    "class DoubleDataset(PointDataset):\n",
    "    def __init__(self, **multimodal_dataset_kwargs):\n",
    "        super().__init__(**multimodal_dataset_kwargs)\n",
    "\n",
    "    def __getitem__(self, idx):\n",
    "        face_index = torch.from_numpy(self.file['face_index'][idx][:]).long()\n",
    "        return (super().__getitem__(idx), super().__getitem__(idx), face_index)\n",
    "\n",
    "    def __len__(self):\n",
    "        return super().__len__()"
   ]
  },
  {
   "cell_type": "code",
   "execution_count": null,
   "id": "6f3563f6",
   "metadata": {
    "scrolled": false
   },
   "outputs": [],
   "source": [
    "from workspace.datasets.transforms import *\n",
    "\n",
    "train_data = DoubleDataset(\n",
    "    data_path='modelnet/modelnet_train_1024.h5',\n",
    "    transform=Compose(\n",
    "        RandomRotation(low=-45, high=45, axis='xyz'),\n",
    "        RandomJitter(std=0.01, clip_bound=0.05)\n",
    "    )\n",
    ")\n",
    "test_data = DoubleDataset(\n",
    "    data_path='modelnet/modelnet_test_1024.h5',\n",
    "    transform=Compose(\n",
    "        RandomRotation(low=-45, high=45, axis='xyz'),\n",
    "        RandomJitter(std=0.01, clip_bound=0.05)\n",
    "    )\n",
    ")\n",
    "\n",
    "\n",
    "train_loader = DataLoader(\n",
    "    train_data,\n",
    "    batch_size=params['batch_size'],\n",
    "    num_workers=5,\n",
    "    shuffle=True\n",
    ")\n",
    "test_loader = DataLoader(\n",
    "    test_data,\n",
    "    batch_size=params['batch_size'],\n",
    "    shuffle=False,\n",
    "    num_workers=5\n",
    ")"
   ]
  },
  {
   "cell_type": "code",
   "execution_count": null,
   "id": "1df68723",
   "metadata": {
    "scrolled": false
   },
   "outputs": [],
   "source": [
    "class Transpose(torch.nn.Module):\n",
    "    def __init__(self, *dims):\n",
    "        super().__init__()\n",
    "        self.dims = dims\n",
    "\n",
    "    def forward(self, data):\n",
    "        return data.transpose(*self.dims)\n",
    "    \n",
    "\n",
    "class Model(torch.nn.Module):\n",
    "    def __init__(self, model, model_output_dim, result_dim, hidden_dim):\n",
    "        super().__init__()\n",
    "        self.model = model\n",
    "        self.head = torch.nn.Sequential(\n",
    "            Transpose(1, 2),\n",
    "            torch.nn.Linear(model_output_dim, hidden_dim),\n",
    "            Transpose(1, 2),\n",
    "            torch.nn.BatchNorm1d(hidden_dim),\n",
    "            torch.nn.ReLU(),\n",
    "            Transpose(1, 2),\n",
    "            torch.nn.Linear(hidden_dim, result_dim),\n",
    "            Transpose(1, 2),\n",
    "        )\n",
    "        \n",
    "        \n",
    "    def forward(self, data):\n",
    "        return self.head(self.model.forward_features(data))"
   ]
  },
  {
   "cell_type": "code",
   "execution_count": null,
   "id": "0f9e1ab2",
   "metadata": {
    "scrolled": false
   },
   "outputs": [],
   "source": [
    "from workspace.models.dgcnn import DGCNN\n",
    "\n",
    "dgcnn = DGCNN(n_patches=5)\n",
    "model = Model(\n",
    "    dgcnn,\n",
    "    model_output_dim=params['n_output'],\n",
    "    hidden_dim=params['hidden_dim'],\n",
    "    result_dim=params['result_dim']\n",
    ").to(device)"
   ]
  },
  {
   "cell_type": "code",
   "execution_count": null,
   "id": "0797021f",
   "metadata": {
    "scrolled": false
   },
   "outputs": [],
   "source": [
    "from workspace.crossmodal.utils.losses import *\n",
    "\n",
    "def move_to_device(data, device='cpu'):\n",
    "    if isinstance(data, list):\n",
    "        return [item.to(device) for item in data]\n",
    "    else:\n",
    "        return data.to(device)\n",
    "\n",
    "\n",
    "def forward( \n",
    "    model,\n",
    "    batch, # raw data from dataloader\n",
    "    logger, # neptune run\n",
    "    mode # 'train'/'val'\n",
    "): # -> loss\n",
    "\n",
    "    batch = move_to_device(batch, device)\n",
    "    \n",
    "    data1 = batch[0]\n",
    "    data2 = batch[1]\n",
    "    face_indexes = batch[2]\n",
    "    max_faces = face_indexes.max() + 1\n",
    "    \n",
    "    out1 = model(data1)\n",
    "    out2 = model(data2)\n",
    "    \n",
    "    pooled1, counts1 = get_patch_embeddings(out1, face_indexes, max_faces)\n",
    "    pooled2, counts2 = get_patch_embeddings(out2, face_indexes, max_faces)\n",
    "    \n",
    "    local_loss = patch_contrastive_loss(\n",
    "        (pooled1, counts1),\n",
    "        (pooled2, counts2),\n",
    "        params\n",
    "    ) * 0.1\n",
    "    \n",
    "    gout1 = out1.mean(-1)\n",
    "    gout2 = out2.mean(-1)\n",
    "    \n",
    "    \n",
    "    global_loss = contrastive_loss(gout1, gout2, params)\n",
    "    \n",
    "    \n",
    "    return {\n",
    "        'loss': local_loss + global_loss,\n",
    "        'local_loss': local_loss,\n",
    "        'global_loss': global_loss\n",
    "    }"
   ]
  },
  {
   "cell_type": "code",
   "execution_count": null,
   "id": "fa523b40",
   "metadata": {
    "scrolled": false
   },
   "outputs": [],
   "source": [
    "def get_warmup_schedule(\n",
    "        optimizer, num_warmup_steps, num_training_steps, num_cycles=0.5, last_epoch=-1\n",
    "):\n",
    "    def lr_lambda(current_step):\n",
    "        if current_step < num_warmup_steps:\n",
    "            return float(current_step) / float(max(1, num_warmup_steps))\n",
    "        progress = float(current_step - num_warmup_steps) /\\\n",
    "                   float(max(1, num_training_steps - num_warmup_steps))\n",
    "        return max(0.0, 0.5 * (1.0 + np.cos(np.pi * float(num_cycles) * 2.0 * progress)))\n",
    "\n",
    "    return torch.optim.lr_scheduler.LambdaLR(optimizer, lr_lambda, last_epoch)\n",
    "\n",
    "optimizer = torch.optim.AdamW(\n",
    "    filter(lambda p: p.requires_grad, model.parameters()),\n",
    "    lr=params['lr'],\n",
    "    weight_decay=params['weight_decay']\n",
    ")\n",
    "\n",
    "\n",
    "scheduler = get_warmup_schedule(optimizer, 4 * len(train_loader), params['total_epochs'] * len(train_loader))"
   ]
  },
  {
   "cell_type": "code",
   "execution_count": null,
   "id": "fbb70ce3",
   "metadata": {
    "scrolled": false
   },
   "outputs": [],
   "source": [
    "train_model(model, params, logger, train_loader, test_loader, optimizer, scheduler, forward)"
   ]
  },
  {
   "cell_type": "code",
   "execution_count": null,
   "id": "b52d6a59",
   "metadata": {
    "scrolled": false
   },
   "outputs": [],
   "source": []
  }
 ],
 "metadata": {
  "kernelspec": {
   "display_name": "Python 3",
   "language": "python",
   "name": "python3"
  },
  "language_info": {
   "codemirror_mode": {
    "name": "ipython",
    "version": 3
   },
   "file_extension": ".py",
   "mimetype": "text/x-python",
   "name": "python",
   "nbconvert_exporter": "python",
   "pygments_lexer": "ipython3",
   "version": "3.8.12"
  }
 },
 "nbformat": 4,
 "nbformat_minor": 5
}
